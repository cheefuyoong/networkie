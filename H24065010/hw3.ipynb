{
 "cells": [
  {
   "cell_type": "code",
   "execution_count": 2,
   "metadata": {},
   "outputs": [],
   "source": [
    "import networkx as nx\n",
    "import pandas as pd\n",
    "import numpy as np\n",
    "import seaborn as sns\n",
    "from Custom import LoadFromFile \n",
    "%matplotlib inline\n",
    "import matplotlib as plt"
   ]
  },
  {
   "cell_type": "markdown",
   "metadata": {},
   "source": [
    "# 3a\n"
   ]
  },
  {
   "cell_type": "code",
   "execution_count": 3,
   "metadata": {
    "scrolled": true
   },
   "outputs": [
    {
     "data": {
      "text/plain": [
       "networkx.classes.graph.Graph"
      ]
     },
     "execution_count": 3,
     "metadata": {},
     "output_type": "execute_result"
    },
    {
     "data": {
      "image/png": "[encoded data removed]",
      "text/plain": [
       "<matplotlib.figure.Figure at 0x1127cf30>"
      ]
     },
     "metadata": {},
     "output_type": "display_data"
    }
   ],
   "source": [
    "G=LoadFromFile().from_in_class_network()\n",
    "nx.draw_spring(G,node_size=5)"
   ]
  },
  {
   "cell_type": "markdown",
   "metadata": {},
   "source": [
    "# 3b\n"
   ]
  },
  {
   "cell_type": "code",
   "execution_count": 4,
   "metadata": {},
   "outputs": [
    {
     "name": "stdout",
     "output_type": "stream",
     "text": [
      "(i) nodes : 75.000000\n",
      "(ii) edges : 109.000000\n",
      "(iii) averange degree : 2.906667\n",
      "(iv) averange path length : 4.508475\n",
      "(v) nG : 45.000000\n"
     ]
    }
   ],
   "source": [
    "n=G.order()\n",
    "m=G.size()\n",
    "averange_mean=(2*m)/n\n",
    "print(\"(i) nodes : %f\"%(n))\n",
    "print(\"(ii) edges : %f\"%(m))\n",
    "print(\"(iii) averange degree : %f\"%(averange_mean))\n",
    "sub=list(nx.connected_component_subgraphs(G))\n",
    "average_each_graph=[]\n",
    "total = 0\n",
    "for i in sub:\n",
    "    average_each_graph.append(nx.average_shortest_path_length(i))\n",
    "each_number_pair=[]\n",
    "for i in sub:\n",
    "    a=len(list(i))\n",
    "    each_number_pair.append((a*(a-1))/2)\n",
    "each_number_pair\n",
    "total=0\n",
    "for i in range(len(average_each_graph)):\n",
    "    total+= (average_each_graph[i])*(each_number_pair[i])\n",
    "average_path_length=total/sum(each_number_pair)\n",
    "print(\"(iv) averange path length : %f\"%(average_path_length))\n",
    "nG=len(list(sub[0]))\n",
    "print(\"(v) nG : %f\"%(nG))\n"
   ]
  },
  {
   "cell_type": "markdown",
   "metadata": {},
   "source": [
    "# 3c"
   ]
  },
  {
   "cell_type": "code",
   "execution_count": 5,
   "metadata": {},
   "outputs": [
    {
     "name": "stdout",
     "output_type": "stream",
     "text": [
      "3c\n",
      "emax : 2775.000000\n",
      "e/emax : 0.039279\n"
     ]
    }
   ],
   "source": [
    "print(\"3c\")\n",
    "emax=(n*(n-1))/2\n",
    "eemax=m/emax\n",
    "print(\"emax : %f\"%(emax))\n",
    "print(\"e/emax : %f\"%(eemax))\n",
    "\n"
   ]
  },
  {
   "cell_type": "markdown",
   "metadata": {},
   "source": [
    "# 3d"
   ]
  },
  {
   "cell_type": "code",
   "execution_count": 6,
   "metadata": {
    "scrolled": false
   },
   "outputs": [
    {
     "data": {
      "text/plain": [
       "<matplotlib.axes._subplots.AxesSubplot at 0x3809150>"
      ]
     },
     "execution_count": 6,
     "metadata": {},
     "output_type": "execute_result"
    },
    {
     "data": {
      "image/png": "[encoded data removed]",
      "text/plain": [
       "<matplotlib.figure.Figure at 0x37f8590>"
      ]
     },
     "metadata": {},
     "output_type": "display_data"
    }
   ],
   "source": [
    "from Measures import Node\n",
    "N=Node().degree_dist(G)\n",
    "degrees=[]\n",
    "new_N=sorted(N)\n",
    "for i in new_N:\n",
    "    degrees.append(i[1])\n",
    "number_degree=[]\n",
    "for i in range(max(degrees)+1):\n",
    "    number=0\n",
    "    for j in degrees:\n",
    "        if i==j:\n",
    "            number+=1\n",
    "    number_degree.append(number)\n",
    "total_degrees=sum(number_degree)\n",
    "for i in range(len(number_degree)):\n",
    "    number_degree[i]=(number_degree[i])/total_degrees\n",
    "a=list(range(len(number_degree)))\n",
    "s=pd.Series(number_degree,index=a)\n",
    "s.plot(kind=\"bar\")\n",
    "\n"
   ]
  },
  {
   "cell_type": "markdown",
   "metadata": {},
   "source": [
    "# 3e"
   ]
  },
  {
   "cell_type": "code",
   "execution_count": 7,
   "metadata": {},
   "outputs": [
    {
     "name": "stdout",
     "output_type": "stream",
     "text": [
      "Number of triangle: 52.000000\n"
     ]
    }
   ],
   "source": [
    "from Measures import compute_num_triangles\n",
    "P=compute_num_triangles(G)\n",
    "print(\"Number of triangle: %f\"%(P))\n"
   ]
  },
  {
   "cell_type": "code",
   "execution_count": null,
   "metadata": {},
   "outputs": [],
   "source": []
  }
 ],
 "metadata": {
  "kernelspec": {
   "display_name": "Python 3",
   "language": "python",
   "name": "python3"
  },
  "language_info": {
   "codemirror_mode": {
    "name": "ipython",
    "version": 3
   },
   "file_extension": ".py",
   "mimetype": "text/x-python",
   "name": "python",
   "nbconvert_exporter": "python",
   "pygments_lexer": "ipython3",
   "version": "3.6.2"
  }
 },
 "nbformat": 4,
 "nbformat_minor": 2
}
